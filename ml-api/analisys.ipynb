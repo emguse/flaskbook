{
 "cells": [
  {
   "cell_type": "markdown",
   "metadata": {},
   "source": [
    "## Original code"
   ]
  },
  {
   "cell_type": "code",
   "execution_count": 1,
   "metadata": {},
   "outputs": [
    {
     "name": "stdout",
     "output_type": "stream",
     "text": [
      "Discrimination results of hand-written characters\n",
      "Observation:  [0 1 2 3 4 5 6 7 8 9]\n",
      "Prediction:  [4 4 4 4 4 4 4 7 4 4]\n",
      "Accuracy:  0.2\n"
     ]
    }
   ],
   "source": [
    "import os\n",
    "\n",
    "import numpy as np\n",
    "from PIL import Image\n",
    "import sqlite3\n",
    "from sklearn.datasets import load_digits\n",
    "from sklearn.linear_model import LogisticRegression\n",
    "from sklearn.model_selection import train_test_split\n",
    "\n",
    "INCLUDED_EXTENSION = [\".png\", \".jpg\"]\n",
    "\n",
    "dbname = 'images.db'\n",
    "\n",
    "conn = sqlite3.connect(dbname)\n",
    "cur = conn.cursor()\n",
    "cur.execute('DROP TABLE image_info')\n",
    "cur.execute('CREATE TABLE image_info (id INTEGER PRIMARY KEY AUTOINCREMENT, filename STRING)')\n",
    "conn.commit()\n",
    "conn.close()\n",
    "\n",
    "conn = sqlite3.connect(dbname)\n",
    "cur = conn.cursor()\n",
    "filenames = sorted(os.listdir('handwriting_pics'))\n",
    "for filename in filenames:\n",
    "    base, ext = os.path.splitext(filename)\n",
    "    if ext not in INCLUDED_EXTENSION:\n",
    "        continue\n",
    "    cur.execute('INSERT INTO image_info(filename) values(?)', (filename, ))\n",
    "conn.commit()\n",
    "cur.close()\n",
    "conn.close()\n",
    "\n",
    "conn = sqlite3.connect(dbname)\n",
    "cur = conn.cursor()\n",
    "cur.execute('SELECT * FROM image_info')\n",
    "pics_info = cur.fetchall()\n",
    "cur.close()\n",
    "conn.close()\n",
    "\n",
    "img_test = np.empty((0, 64))\n",
    "for pic_info in pics_info:\n",
    "    filename = pic_info[1]\n",
    "    base, ext = os.path.splitext(filename)\n",
    "    if ext not in INCLUDED_EXTENSION:\n",
    "        continue\n",
    "    img = Image.open(f'handwriting_pics/{filename}').convert('L')\n",
    "    img_data256 = 255 - np.array(img.resize((8, 8)))\n",
    "\n",
    "    min_bright = img_data256.min()\n",
    "    max_bright = img_data256.max()\n",
    "    img_data16 = (img_data256 - min_bright) / (max_bright - min_bright) * 16\n",
    "    img_test = np.r_[img_test, img_data16.astype(np.uint8).reshape(1, -1)]\n",
    "\n",
    "digits = load_digits()\n",
    "X = digits.data\n",
    "y = digits.target\n",
    "X_tarin, X_test, y_train, y_test = train_test_split(X, y, test_size=0.5, random_state=0)\n",
    "logreg = LogisticRegression(max_iter=2000)\n",
    "logreg_model = logreg.fit(X_tarin, y_train)\n",
    "\n",
    "X_true = []\n",
    "for filename in filenames:\n",
    "    base, ext = os.path.splitext(filename)\n",
    "    if ext not in INCLUDED_EXTENSION:\n",
    "        continue\n",
    "    X_true = X_true + [int(filename[:1])]\n",
    "X_true = np.array(X_true)\n",
    "pred_logreg = logreg_model.predict(img_test)\n",
    "\n",
    "print('Discrimination results of hand-written characters')\n",
    "print('Observation: ', X_true)\n",
    "print('Prediction: ', pred_logreg)\n",
    "print('Accuracy: ', logreg_model.score(img_test, X_true))"
   ]
  },
  {
   "cell_type": "markdown",
   "metadata": {},
   "source": [
    "## Data access"
   ]
  },
  {
   "cell_type": "code",
   "execution_count": 2,
   "metadata": {},
   "outputs": [],
   "source": [
    "INCLUDED_EXTENSION = [\".png\", \".jpg\"]\n",
    "\n",
    "# DB create\n",
    "dbname = 'images.db'\n",
    "conn = sqlite3.connect(dbname)\n",
    "cur = conn.cursor()\n",
    "\n",
    "# init DB\n",
    "cur.execute('DROP TABLE image_info')\n",
    "# Create image_info table\n",
    "cur.execute('CREATE TABLE image_info (id INTEGER PRIMARY KEY AUTOINCREMENT, filename STRING)')\n",
    "# DB commit\n",
    "conn.commit()\n",
    "conn.close()\n",
    "\n",
    "# Insert image file name into DB\n",
    "conn = sqlite3.connect(dbname)\n",
    "cur = conn.cursor()\n",
    "filenames = sorted(os.listdir('handwriting_pics'))\n",
    "for filename in filenames:\n",
    "    base, ext = os.path.splitext(filename)\n",
    "    if ext not in INCLUDED_EXTENSION:\n",
    "        continue\n",
    "    cur.execute('INSERT INTO image_info(filename) values(?)', (filename, ))\n",
    "conn.commit()\n",
    "cur.close()\n",
    "conn.close()\n",
    "\n",
    "# Load image info\n",
    "conn = sqlite3.connect(dbname)\n",
    "cur = conn.cursor()\n",
    "cur.execute('SELECT * FROM image_info')\n",
    "pics_info = cur.fetchall()\n",
    "cur.close()\n",
    "conn.close()"
   ]
  },
  {
   "cell_type": "markdown",
   "metadata": {},
   "source": [
    "## Preprocessing"
   ]
  },
  {
   "cell_type": "code",
   "execution_count": 3,
   "metadata": {},
   "outputs": [],
   "source": [
    "img_test = np.empty((0, 64))\n",
    "# Convert images in the directory to data\n",
    "for pic_info in pics_info:\n",
    "    filename = pic_info[1]\n",
    "    # Grayscaling and resizing\n",
    "    base, ext = os.path.splitext(filename)\n",
    "    if ext not in INCLUDED_EXTENSION:\n",
    "        continue\n",
    "    img = Image.open(f'handwriting_pics/{filename}').convert('L')\n",
    "    img_data256 = 255 - np.array(img.resize((8, 8)))\n",
    "\n",
    "    # The minimum brightness is 0 and the maximum brightness is 16.\n",
    "    min_bright = img_data256.min()\n",
    "    max_bright = img_data256.max()\n",
    "    img_data16 = (img_data256 - min_bright) / (max_bright - min_bright) * 16\n",
    "    # Put the processed data into an array\n",
    "    img_test = np.r_[img_test, img_data16.astype(np.uint8).reshape(1, -1)]"
   ]
  },
  {
   "cell_type": "markdown",
   "metadata": {},
   "source": [
    "## Learning/prediction/calculation"
   ]
  },
  {
   "cell_type": "code",
   "execution_count": 4,
   "metadata": {},
   "outputs": [
    {
     "name": "stdout",
     "output_type": "stream",
     "text": [
      "Discrimination results of hand-written characters\n",
      "Observation:  [0 1 2 3 4 5 6 7 8 9]\n",
      "Prediction:  [4 4 4 4 4 4 4 7 4 4]\n",
      "Accuracy:  0.2\n"
     ]
    }
   ],
   "source": [
    "# load data\n",
    "digits = load_digits()\n",
    "# Divided into objective variables and explanatory variables\n",
    "X = digits.data\n",
    "y = digits.target\n",
    "# Separate into training data and test data\n",
    "X_tarin, X_test, y_train, y_test = train_test_split(X, y, test_size=0.5, random_state=0)\n",
    "# Create a logistic regression model. Learning with supervised data.\n",
    "logreg = LogisticRegression(max_iter=2000)\n",
    "logreg_model = logreg.fit(X_tarin, y_train)\n",
    "\n",
    "# Correct answer array\n",
    "X_true = []\n",
    "for filename in filenames:\n",
    "    base, ext = os.path.splitext(filename)\n",
    "    if ext not in INCLUDED_EXTENSION:\n",
    "        continue\n",
    "    X_true = X_true + [int(filename[:1])]\n",
    "X_true = np.array(X_true)\n",
    "\n",
    "# Distinguish using a trained model\n",
    "pred_logreg = logreg_model.predict(img_test)\n",
    "\n",
    "print('Discrimination results of hand-written characters')\n",
    "print('Observation: ', X_true)\n",
    "print('Prediction: ', pred_logreg)\n",
    "print('Accuracy: ', logreg_model.score(img_test, X_true))"
   ]
  },
  {
   "cell_type": "markdown",
   "metadata": {},
   "source": [
    "# Function division"
   ]
  },
  {
   "cell_type": "code",
   "execution_count": 5,
   "metadata": {},
   "outputs": [],
   "source": [
    "INCLUDED_EXTENSION = [\".png\", \".jpg\"]\n",
    "dbname = 'images.db'\n",
    "dir_name = 'handwriting_pics'\n",
    "\n",
    "\n",
    "def load_filenames(dir_name, include_ext=INCLUDED_EXTENSION):\n",
    "    files = []\n",
    "    filenames = sorted(os.listdir(dir_name))\n",
    "    for filename in filenames:\n",
    "        base, ext = os.path.splitext(filename)\n",
    "        if ext not in include_ext:\n",
    "            continue\n",
    "        files.append(filename)\n",
    "    return files\n",
    "\n",
    "\n",
    "def create_table(dbname):\n",
    "    '''Create DB table'''\n",
    "    conn = sqlite3.connect(dbname)\n",
    "    cur = conn.cursor()\n",
    "    # init DB\n",
    "    cur.execute('DROP TABLE image_info')\n",
    "    # Create image_info table\n",
    "    cur.execute('CREATE TABLE image_info (id INTEGER PRIMARY KEY AUTOINCREMENT, filename STRING)')\n",
    "    # DB commit\n",
    "    conn.commit()\n",
    "    conn.close()\n",
    "    print(\"table is successully created\")\n",
    "\n",
    "\n",
    "def insert_filename(dbname, dir_name):\n",
    "    '''Insert image file name into DB'''\n",
    "    filenames = sorted(os.listdir('handwriting_pics'))\n",
    "    conn = sqlite3.connect(dbname)\n",
    "    cur = conn.cursor()\n",
    "    for filename in filenames:\n",
    "        cur.execute('INSERT INTO image_info(filename) values(?)', (filename, ))\n",
    "    conn.commit()\n",
    "    cur.close()\n",
    "    conn.close()\n",
    "    print(\"image file names are successully instred\")\n",
    "\n",
    "\n",
    "def extract_filenames(dbname):\n",
    "    '''Load image info'''\n",
    "    conn = sqlite3.connect(dbname)\n",
    "    cur = conn.cursor()\n",
    "    cur.execute('SELECT * FROM image_info')\n",
    "    filenames = cur.fetchall()\n",
    "    cur.close()\n",
    "    conn.close()\n",
    "    return filenames\n"
   ]
  },
  {
   "cell_type": "code",
   "execution_count": 6,
   "metadata": {},
   "outputs": [
    {
     "name": "stdout",
     "output_type": "stream",
     "text": [
      "table is successully created\n",
      "image file names are successully instred\n"
     ]
    },
    {
     "data": {
      "text/plain": [
       "[(1, '0.jpg'),\n",
       " (2, '1.jpg'),\n",
       " (3, '2.jpg'),\n",
       " (4, '3.jpg'),\n",
       " (5, '4.jpg'),\n",
       " (6, '5.jpg'),\n",
       " (7, '6.jpg'),\n",
       " (8, '7.jpg'),\n",
       " (9, '8.jpg'),\n",
       " (10, '9.jpg')]"
      ]
     },
     "execution_count": 6,
     "metadata": {},
     "output_type": "execute_result"
    }
   ],
   "source": [
    "create_table(dbname)\n",
    "insert_filename(dbname, dir_name)\n",
    "extract_filenames(dbname)"
   ]
  },
  {
   "cell_type": "code",
   "execution_count": 7,
   "metadata": {},
   "outputs": [],
   "source": [
    "def get_grayscale(dir_name):\n",
    "    \"\"\"Convert to grayscale images\"\"\"\n",
    "    filenames = load_filenames(dir_name)\n",
    "    for filename in filenames:\n",
    "        img = Image.open(f'handwriting_pics/{filename}').convert('L')\n",
    "        yield img\n",
    "\n",
    "\n",
    "def get_shrinked_img(dir_name):\n",
    "    \"\"\"Convert images in the directory to data\"\"\"\n",
    "    img_test = np.empty((0, 64))\n",
    "    crop_size = 8\n",
    "    for img in get_grayscale(dir_name):\n",
    "        img_data256 = 255 - np.array(img.resize((crop_size, crop_size)))\n",
    "        # The minimum brightness is 0 and the maximum brightness is 16.\n",
    "        min_bright, max_bright = img_data256.min(), img_data256.max()\n",
    "        img_data16 = (img_data256 - min_bright) / (max_bright - min_bright) * 16\n",
    "        # Put the processed data into an array\n",
    "        img_test = np.r_[img_test, img_data16.astype(np.uint8).reshape(1, -1)]\n",
    "    return img_test\n"
   ]
  },
  {
   "cell_type": "code",
   "execution_count": 8,
   "metadata": {},
   "outputs": [
    {
     "data": {
      "text/plain": [
       "array([[ 0.,  0.,  0.,  0.,  0.,  0.,  0.,  0.,  0.,  0.,  0.,  0.,  0.,\n",
       "         0.,  0.,  0.,  0.,  0.,  0.,  8., 16.,  0.,  0.,  0.,  0.,  0.,\n",
       "         0., 16., 16.,  8.,  0.,  0.,  0.,  0.,  0.,  8.,  8.,  8.,  0.,\n",
       "         0.,  0.,  0.,  0.,  8., 16.,  0.,  0.,  0.,  0.,  0.,  0.,  0.,\n",
       "         0.,  0.,  0.,  0.,  0.,  0.,  0.,  0.,  0.,  0.,  0.,  0.],\n",
       "       [ 0.,  0.,  0.,  0.,  0.,  0.,  0.,  0.,  0.,  0.,  0.,  0.,  0.,\n",
       "         0.,  0.,  0.,  0.,  0.,  0., 16.,  0.,  0.,  0.,  0.,  0.,  0.,\n",
       "         0.,  8.,  0.,  0.,  0.,  0.,  0.,  0.,  0.,  8.,  0.,  0.,  0.,\n",
       "         0.,  0.,  0.,  0.,  0.,  0.,  0.,  0.,  0.,  0.,  0.,  0.,  0.,\n",
       "         0.,  0.,  0.,  0.,  0.,  0.,  0.,  0.,  0.,  0.,  0.,  0.],\n",
       "       [ 0.,  0.,  0.,  0.,  0.,  0.,  0.,  0.,  0.,  0.,  0.,  3.,  3.,\n",
       "         0.,  0.,  0.,  0.,  0.,  0.,  6.,  3.,  0.,  0.,  0.,  0.,  0.,\n",
       "         3.,  3.,  3.,  0.,  0.,  0.,  0.,  0.,  0.,  0.,  9.,  3.,  0.,\n",
       "         0.,  0.,  0.,  3., 16.,  9.,  6.,  0.,  0.,  0.,  0.,  3.,  3.,\n",
       "         0.,  0.,  0.,  0.,  0.,  0.,  0.,  0.,  0.,  0.,  0.,  0.],\n",
       "       [ 0.,  0.,  0.,  0.,  0.,  0.,  0.,  0.,  0.,  0.,  8.,  8., 10.,\n",
       "         0.,  0.,  0.,  0.,  2.,  8., 10., 13.,  0.,  0.,  0.,  0.,  5.,\n",
       "        16., 13., 10., 10.,  2.,  0.,  0.,  0.,  0.,  0.,  0., 10.,  5.,\n",
       "         0.,  0.,  8., 10., 10., 10.,  8.,  0.,  0.,  0.,  0.,  2.,  0.,\n",
       "         0.,  0.,  0.,  0.,  0.,  0.,  0.,  0.,  0.,  0.,  0.,  0.],\n",
       "       [ 0.,  0.,  0.,  4.,  2.,  0.,  0.,  0.,  0.,  0.,  2., 16.,  2.,\n",
       "         0.,  0.,  0.,  0.,  2., 10.,  8.,  2.,  0.,  0.,  0.,  0.,  8.,\n",
       "        12., 16., 12.,  8.,  0.,  0.,  0.,  0.,  0.,  8.,  4.,  2.,  0.,\n",
       "         0.,  0.,  0.,  0.,  8.,  2.,  0.,  0.,  0.,  0.,  0.,  0.,  2.,\n",
       "         0.,  0.,  0.,  0.,  0.,  0.,  0.,  0.,  0.,  0.,  0.,  0.],\n",
       "       [ 0.,  0.,  0.,  0.,  0.,  0.,  0.,  0.,  0.,  6.,  6.,  0.,  0.,\n",
       "         0.,  0.,  0.,  0., 12., 16., 12.,  9.,  0.,  0.,  0.,  0.,  9.,\n",
       "         9.,  9.,  6.,  0.,  0.,  0.,  0.,  3.,  9.,  6.,  9.,  9.,  0.,\n",
       "         0.,  0.,  0.,  3.,  3.,  9., 12.,  0.,  0.,  0.,  0.,  9.,  9.,\n",
       "         6.,  0.,  0.,  0.,  0.,  0.,  0.,  0.,  0.,  0.,  0.,  0.],\n",
       "       [ 0.,  0.,  5.,  2.,  0.,  0.,  0.,  0.,  0.,  8.,  8.,  2.,  0.,\n",
       "         0.,  0.,  0.,  0., 10.,  0.,  0.,  0.,  0.,  0.,  0.,  0., 16.,\n",
       "        10., 10.,  8.,  0.,  0.,  0.,  0., 10.,  5.,  0.,  8.,  5.,  0.,\n",
       "         0.,  0.,  0., 10.,  5.,  8.,  8.,  0.,  0.,  0.,  0.,  0.,  5.,\n",
       "         8.,  0.,  0.,  0.,  0.,  0.,  0.,  0.,  0.,  0.,  0.,  0.],\n",
       "       [ 0.,  0.,  0.,  0.,  0.,  0.,  0.,  0.,  0., 12., 12., 12., 12.,\n",
       "         8.,  0.,  0.,  4., 16.,  4.,  4.,  8., 16.,  0.,  0.,  0.,  0.,\n",
       "         0.,  0., 12.,  8.,  0.,  0.,  0.,  0.,  0.,  0., 16.,  0.,  0.,\n",
       "         0.,  0.,  0.,  0.,  8., 12.,  0.,  0.,  0.,  0.,  0.,  0.,  8.,\n",
       "         4.,  0.,  0.,  0.,  0.,  0.,  0.,  0.,  0.,  0.,  0.,  0.],\n",
       "       [ 0.,  0.,  4.,  2.,  0.,  0.,  0.,  0.,  0.,  8.,  6.,  8.,  4.,\n",
       "         0.,  0.,  0.,  0.,  8.,  4.,  0., 10.,  2.,  0.,  0.,  0.,  0.,\n",
       "        10., 16.,  8.,  0.,  0.,  0.,  0.,  4.,  8.,  2.,  8.,  0.,  0.,\n",
       "         0.,  0., 10.,  0.,  0.,  8.,  0.,  0.,  0.,  0.,  4.,  8.,  8.,\n",
       "         2.,  0.,  0.,  0.,  0.,  0.,  0.,  0.,  0.,  0.,  0.,  0.],\n",
       "       [ 0.,  2.,  4.,  2.,  2.,  0.,  0.,  0.,  2.,  8.,  4.,  4.,  6.,\n",
       "         6.,  2.,  0.,  0.,  8.,  2.,  0.,  0., 16.,  4.,  0.,  0.,  2.,\n",
       "         8.,  6.,  8., 12.,  0.,  0.,  0.,  0.,  0.,  0.,  8.,  2.,  0.,\n",
       "         0.,  0.,  0.,  0.,  2.,  6.,  0.,  0.,  0.,  0.,  0.,  0.,  6.,\n",
       "         2.,  0.,  0.,  0.,  0.,  0.,  0.,  2.,  0.,  0.,  0.,  0.]])"
      ]
     },
     "execution_count": 8,
     "metadata": {},
     "output_type": "execute_result"
    }
   ],
   "source": [
    "get_shrinked_img(dir_name)"
   ]
  },
  {
   "cell_type": "code",
   "execution_count": 9,
   "metadata": {},
   "outputs": [],
   "source": [
    "def create_logreg_model():\n",
    "    \"\"\"Create a logistic regression model. Learning with supervised data.\"\"\"\n",
    "    # load data\n",
    "    digits = load_digits()\n",
    "    # Divided into objective variables and explanatory variables\n",
    "    X = digits.data\n",
    "    y = digits.target\n",
    "    # Separate into training data and test data\n",
    "    X_tarin, X_test, y_train, y_test = train_test_split(X, y, test_size=0.5, random_state=0)\n",
    "    logreg = LogisticRegression(max_iter=2000)\n",
    "    logreg_model = logreg.fit(X_tarin, y_train)\n",
    "    return logreg_model\n",
    "\n",
    "\n",
    "def evaluate_probs(dir_name, img_test, logreg_model):\n",
    "    \"\"\"Evaluate test data\"\"\"\n",
    "    filenames = load_filenames(dir_name)\n",
    "    # Correct answer array\n",
    "    X_true = [int(filename[:1]) for filename in filenames]\n",
    "    X_true = np.array(X_true)\n",
    "    # Distinguish using a trained model\n",
    "    pred_logreg = logreg_model.predict(img_test)\n",
    "    print('Observation: ', X_true)\n",
    "    print('Prediction: ', pred_logreg)\n",
    "    print('Accuracy: ', logreg_model.score(img_test, X_true))\n",
    "    return \"Propability calculation is successfully finished\""
   ]
  },
  {
   "cell_type": "code",
   "execution_count": 10,
   "metadata": {},
   "outputs": [
    {
     "name": "stdout",
     "output_type": "stream",
     "text": [
      "Observation:  [0 1 2 3 4 5 6 7 8 9]\n",
      "Prediction:  [4 4 4 4 4 4 4 7 4 4]\n",
      "Accuracy:  0.2\n"
     ]
    },
    {
     "data": {
      "text/plain": [
       "'Propability calculation is successfully finished'"
      ]
     },
     "execution_count": 10,
     "metadata": {},
     "output_type": "execute_result"
    }
   ],
   "source": [
    "logreg_model = create_logreg_model()\n",
    "evaluate_probs(dir_name, img_test, logreg_model)"
   ]
  }
 ],
 "metadata": {
  "kernelspec": {
   "display_name": "venv",
   "language": "python",
   "name": "python3"
  },
  "language_info": {
   "codemirror_mode": {
    "name": "ipython",
    "version": 3
   },
   "file_extension": ".py",
   "mimetype": "text/x-python",
   "name": "python",
   "nbconvert_exporter": "python",
   "pygments_lexer": "ipython3",
   "version": "3.11.5"
  }
 },
 "nbformat": 4,
 "nbformat_minor": 2
}
